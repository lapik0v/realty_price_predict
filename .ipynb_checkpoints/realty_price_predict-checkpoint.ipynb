{
 "cells": [
  {
   "cell_type": "markdown",
   "metadata": {},
   "source": [
    "# XGBoost regression для предсказания рыночной (выставляемой) стоимости квартиры"
   ]
  },
  {
   "cell_type": "code",
   "execution_count": 46,
   "metadata": {},
   "outputs": [
    {
     "name": "stdout",
     "output_type": "stream",
     "text": [
      "Requirement already satisfied: xgboost in c:\\users\\saare\\anaconda3\\lib\\site-packages (1.5.0)\n",
      "Requirement already satisfied: scipy in c:\\users\\saare\\anaconda3\\lib\\site-packages (from xgboost) (1.2.1)\n",
      "Requirement already satisfied: numpy in c:\\users\\saare\\anaconda3\\lib\\site-packages (from xgboost) (1.16.4)\n"
     ]
    }
   ],
   "source": [
    "import sys\n",
    "### установка библиотеки xgboost\n",
    "!{sys.executable} -m pip install xgboost"
   ]
  },
  {
   "cell_type": "code",
   "execution_count": 47,
   "metadata": {},
   "outputs": [],
   "source": [
    "import pandas as pd\n",
    "import numpy as np\n",
    "import xgboost as xg\n",
    "import matplotlib.pyplot as plt\n",
    "from sklearn.tree import DecisionTreeRegressor\n",
    "from sklearn.model_selection import train_test_split\n",
    "from sklearn.preprocessing import LabelEncoder\n",
    "from sklearn import metrics\n",
    "from IPython.display import Image"
   ]
  },
  {
   "cell_type": "markdown",
   "metadata": {},
   "source": [
    "Импортируем датасет с сырыми данными лотов недвижимости, выставленных на одном из агрегаторов объявлений. Сразу удалим дубликаты и почистим пропуски."
   ]
  },
  {
   "cell_type": "code",
   "execution_count": 48,
   "metadata": {},
   "outputs": [],
   "source": [
    "data = pd.read_csv('realty.csv', sep=';',\n",
    "                   encoding='cp1251',\n",
    "                   header=None,\n",
    "                   names=['price','price_per_m','title','okrug','district',\n",
    "                          'address','transport','square','live_square',\n",
    "                          'kitchen_square','etage','year','room_sq','height',\n",
    "                          'sanuzel','balcon','view','otdelka'])\n",
    "\n",
    "data = data.drop_duplicates(keep='first')\n",
    "data = data.replace(['None'], [np.nan]).fillna('0')"
   ]
  },
  {
   "cell_type": "markdown",
   "metadata": {},
   "source": [
    "### Посмотрим на данные\n",
    "1. price - стоимость объекта, целевое значение, которое будет предсказывать модель \\n\n",
    "2. price_per_m - стоимость квадратного метра. Бесполезный признак.\n",
    "3. title - тип объекта\n",
    "4. okrug - округ Москвы\n",
    "5. district - район Москвы\n",
    "6. address - адресс объекта\n",
    "7. transport - ближайшая станция метро и время до нее\n",
    "8. square - общая площадь\n",
    "9. live_square - жилая площадь\n",
    "10. kitchen_square - площадь кухни\n",
    "11. etage - этаж и общее количество этажей в доме\n",
    "12. year - год постройки дома\n",
    "13. room_sq - площади комнат\n",
    "14. height - высота потолка\n",
    "15. sanuzel - тип и количество санузлов\n",
    "16. balcon - тип и количество балконов\n",
    "17. view - вид из окон\n",
    "18. otdelka - вид отделки"
   ]
  },
  {
   "cell_type": "code",
   "execution_count": 49,
   "metadata": {},
   "outputs": [
    {
     "data": {
      "text/html": [
       "<div>\n",
       "<style scoped>\n",
       "    .dataframe tbody tr th:only-of-type {\n",
       "        vertical-align: middle;\n",
       "    }\n",
       "\n",
       "    .dataframe tbody tr th {\n",
       "        vertical-align: top;\n",
       "    }\n",
       "\n",
       "    .dataframe thead th {\n",
       "        text-align: right;\n",
       "    }\n",
       "</style>\n",
       "<table border=\"1\" class=\"dataframe\">\n",
       "  <thead>\n",
       "    <tr style=\"text-align: right;\">\n",
       "      <th></th>\n",
       "      <th>price</th>\n",
       "      <th>price_per_m</th>\n",
       "      <th>title</th>\n",
       "      <th>okrug</th>\n",
       "      <th>district</th>\n",
       "      <th>address</th>\n",
       "      <th>transport</th>\n",
       "      <th>square</th>\n",
       "      <th>live_square</th>\n",
       "      <th>kitchen_square</th>\n",
       "      <th>etage</th>\n",
       "      <th>year</th>\n",
       "      <th>room_sq</th>\n",
       "      <th>height</th>\n",
       "      <th>sanuzel</th>\n",
       "      <th>balcon</th>\n",
       "      <th>view</th>\n",
       "      <th>otdelka</th>\n",
       "    </tr>\n",
       "  </thead>\n",
       "  <tbody>\n",
       "    <tr>\n",
       "      <th>0</th>\n",
       "      <td>9000000</td>\n",
       "      <td>250696</td>\n",
       "      <td>1-комн. квартира</td>\n",
       "      <td>САО</td>\n",
       "      <td>р-н Аэропорт</td>\n",
       "      <td>1-й Амбулаторный проезд 7кА</td>\n",
       "      <td>Сокол 3 мин. на транспорте</td>\n",
       "      <td>35,9</td>\n",
       "      <td>19</td>\n",
       "      <td>19</td>\n",
       "      <td>1 из 5</td>\n",
       "      <td>1957.0</td>\n",
       "      <td>0</td>\n",
       "      <td>0</td>\n",
       "      <td>1 совмещенный</td>\n",
       "      <td>0</td>\n",
       "      <td>во двор</td>\n",
       "      <td>косметический</td>\n",
       "    </tr>\n",
       "    <tr>\n",
       "      <th>1</th>\n",
       "      <td>16500000</td>\n",
       "      <td>257813</td>\n",
       "      <td>3-комн. квартира</td>\n",
       "      <td>САО</td>\n",
       "      <td>р-н Аэропорт</td>\n",
       "      <td>1-й Амбулаторный проезд 7К3</td>\n",
       "      <td>Аэропорт 16 мин. пешком</td>\n",
       "      <td>64</td>\n",
       "      <td>43,7</td>\n",
       "      <td>7,1</td>\n",
       "      <td>6 из 12</td>\n",
       "      <td>1974.0</td>\n",
       "      <td>16-14,8-12,9</td>\n",
       "      <td>2,64 м</td>\n",
       "      <td>1 раздельный</td>\n",
       "      <td>2 балкона</td>\n",
       "      <td>во двор</td>\n",
       "      <td>косметический</td>\n",
       "    </tr>\n",
       "    <tr>\n",
       "      <th>2</th>\n",
       "      <td>18500000</td>\n",
       "      <td>330357</td>\n",
       "      <td>2-комн. квартира</td>\n",
       "      <td>САО</td>\n",
       "      <td>р-н Аэропорт</td>\n",
       "      <td>1-й Амбулаторный проезд 7кБ</td>\n",
       "      <td>Сокол 14 мин. пешком</td>\n",
       "      <td>56</td>\n",
       "      <td>35,5</td>\n",
       "      <td>8</td>\n",
       "      <td>5 из 5</td>\n",
       "      <td>1958.0</td>\n",
       "      <td>0</td>\n",
       "      <td>0</td>\n",
       "      <td>1 совмещенный</td>\n",
       "      <td>1 балкон</td>\n",
       "      <td>во двор</td>\n",
       "      <td>косметический</td>\n",
       "    </tr>\n",
       "    <tr>\n",
       "      <th>3</th>\n",
       "      <td>21000000</td>\n",
       "      <td>257353</td>\n",
       "      <td>4-комн. квартира</td>\n",
       "      <td>ЦАО</td>\n",
       "      <td>р-н Красносельский</td>\n",
       "      <td>1-й Басманный пер. 5/20С1</td>\n",
       "      <td>Комсомольская 10 мин. пешком</td>\n",
       "      <td>81,6</td>\n",
       "      <td>58,2</td>\n",
       "      <td>9</td>\n",
       "      <td>5 из 5</td>\n",
       "      <td>1927.0</td>\n",
       "      <td>12,7+12,3+26,4+6,8</td>\n",
       "      <td>2,95 м</td>\n",
       "      <td>1 раздельный</td>\n",
       "      <td>1 балкон</td>\n",
       "      <td>0</td>\n",
       "      <td>косметический</td>\n",
       "    </tr>\n",
       "    <tr>\n",
       "      <th>4</th>\n",
       "      <td>18000000</td>\n",
       "      <td>300000</td>\n",
       "      <td>2-комн. квартира</td>\n",
       "      <td>ЦАО</td>\n",
       "      <td>р-н Красносельский</td>\n",
       "      <td>1-й Басманный пер. 5/20С2</td>\n",
       "      <td>Комсомольская 10 мин. пешком</td>\n",
       "      <td>60</td>\n",
       "      <td>37</td>\n",
       "      <td>8</td>\n",
       "      <td>2 из 6</td>\n",
       "      <td>1927.0</td>\n",
       "      <td>15-22</td>\n",
       "      <td>0</td>\n",
       "      <td>2 совмещенных</td>\n",
       "      <td>1 балкон</td>\n",
       "      <td>во двор</td>\n",
       "      <td>косметический</td>\n",
       "    </tr>\n",
       "  </tbody>\n",
       "</table>\n",
       "</div>"
      ],
      "text/plain": [
       "      price  price_per_m             title okrug             district  \\\n",
       "0   9000000       250696  1-комн. квартира   САО         р-н Аэропорт   \n",
       "1  16500000       257813  3-комн. квартира   САО         р-н Аэропорт   \n",
       "2  18500000       330357  2-комн. квартира   САО         р-н Аэропорт   \n",
       "3  21000000       257353  4-комн. квартира   ЦАО   р-н Красносельский   \n",
       "4  18000000       300000  2-комн. квартира   ЦАО   р-н Красносельский   \n",
       "\n",
       "                        address                     transport square  \\\n",
       "0   1-й Амбулаторный проезд 7кА    Сокол 3 мин. на транспорте   35,9   \n",
       "1   1-й Амбулаторный проезд 7К3       Аэропорт 16 мин. пешком     64   \n",
       "2   1-й Амбулаторный проезд 7кБ          Сокол 14 мин. пешком     56   \n",
       "3     1-й Басманный пер. 5/20С1  Комсомольская 10 мин. пешком   81,6   \n",
       "4     1-й Басманный пер. 5/20С2  Комсомольская 10 мин. пешком     60   \n",
       "\n",
       "  live_square kitchen_square    etage    year             room_sq  height  \\\n",
       "0          19             19   1 из 5  1957.0                   0       0   \n",
       "1        43,7            7,1  6 из 12  1974.0        16-14,8-12,9  2,64 м   \n",
       "2        35,5              8   5 из 5  1958.0                   0       0   \n",
       "3        58,2              9   5 из 5  1927.0  12,7+12,3+26,4+6,8  2,95 м   \n",
       "4          37              8   2 из 6  1927.0               15-22       0   \n",
       "\n",
       "         sanuzel     balcon     view        otdelka  \n",
       "0  1 совмещенный          0  во двор  косметический  \n",
       "1   1 раздельный  2 балкона  во двор  косметический  \n",
       "2  1 совмещенный   1 балкон  во двор  косметический  \n",
       "3   1 раздельный   1 балкон        0  косметический  \n",
       "4  2 совмещенных   1 балкон  во двор  косметический  "
      ]
     },
     "execution_count": 49,
     "metadata": {},
     "output_type": "execute_result"
    }
   ],
   "source": [
    "data.head()"
   ]
  },
  {
   "cell_type": "markdown",
   "metadata": {},
   "source": [
    "Заметим, что все признаки после импорта имеют строчный тип данных. Там где признаки принимают вещественное значение - преобразуем тип данных на float/int.\n",
    "Также обратим внимание на признак transport, который по сути содержит в себе два признака: категориальный - станция метро и числовой - время до метро. Разобьем его на два новых признака: station, transport_time."
   ]
  },
  {
   "cell_type": "code",
   "execution_count": 50,
   "metadata": {},
   "outputs": [],
   "source": [
    "def get_transport_time(s):\n",
    "    ans = ''\n",
    "    ind = s.find(' мин.')\n",
    "    ans += s[ind-1]\n",
    "    if s[ind-2] != \" \":\n",
    "        ans += s[ind-2]\n",
    "    if 'транспорт' in s:\n",
    "        return 6*int(ans[::-1]) # если время было указано на транспорте - умножим его на 6\n",
    "    else:\n",
    "        return int(ans[::-1])\n",
    "\n",
    "def get_station_name(s):\n",
    "    ans = ''\n",
    "    ind = s.find(' мин.')-1 # крайняя цифра\n",
    "    if s[ind-1] != \" \": # если еще одна цифра\n",
    "        ans += s[:ind-2]\n",
    "    else:\n",
    "        ans += s[:ind-1]\n",
    "    return ans\n",
    "\n",
    "data['all_etage'] = data['etage'].apply(lambda x: x.split()[2] if x != '0' else x).astype(int)\n",
    "data['etage'] = data['etage'].apply(lambda x: x.split()[0]).astype(int)\n",
    "data['square'] = data['square'].replace(',','.', regex=True).astype(float)\n",
    "data['live_square'] = data['live_square'].replace(',','.', regex=True).astype(float)\n",
    "data['kitchen_square'] = data['kitchen_square'].replace(',','.', regex=True).astype(float)\n",
    "data['height'] = data['height'].replace(',','.', regex=True).apply(lambda x: x.split()[0]).astype(float)\n",
    "data['year'] = data['year'].astype(float).astype(int)\n",
    "data['station'] = data['transport'].apply(get_station_name)\n",
    "data['transport_time'] = data['transport'].apply(get_transport_time)"
   ]
  },
  {
   "cell_type": "code",
   "execution_count": 66,
   "metadata": {},
   "outputs": [
    {
     "data": {
      "text/plain": [
       "Text(0.5, 1.0, 'Площадь объекта')"
      ]
     },
     "execution_count": 66,
     "metadata": {},
     "output_type": "execute_result"
    },
    {
     "data": {
      "image/png": "[encoded data removed]",
      "text/plain": [
       "<Figure size 432x288 with 2 Axes>"
      ]
     },
     "metadata": {
      "needs_background": "light"
     },
     "output_type": "display_data"
    }
   ],
   "source": [
    "fig, axs = plt.subplots(1, 2)\n",
    "axs[0].hist(data['price'], bins=100)\n",
    "axs[0].set_title('Цена объекта')\n",
    "axs[1].hist(data['square'], bins=100)\n",
    "axs[1].set_title('Площадь объекта')"
   ]
  },
  {
   "cell_type": "code",
   "execution_count": 53,
   "metadata": {},
   "outputs": [
    {
     "data": {
      "image/png": "[encoded data removed]",
      "text/plain": [
       "<Figure size 432x288 with 1 Axes>"
      ]
     },
     "metadata": {},
     "output_type": "display_data"
    },
    {
     "data": {
      "image/png": "[encoded data removed]",
      "text/plain": [
       "<Figure size 864x288 with 1 Axes>"
      ]
     },
     "metadata": {
      "needs_background": "light"
     },
     "output_type": "display_data"
    },
    {
     "data": {
      "image/png": "[encoded data removed]",
      "text/plain": [
       "<Figure size 864x288 with 1 Axes>"
      ]
     },
     "metadata": {
      "needs_background": "light"
     },
     "output_type": "display_data"
    },
    {
     "data": {
      "image/png": "[encoded data removed]",
      "text/plain": [
       "<Figure size 864x288 with 1 Axes>"
      ]
     },
     "metadata": {
      "needs_background": "light"
     },
     "output_type": "display_data"
    }
   ],
   "source": [
    "fig1, ax1 = plt.subplots() \n",
    "okrugs, texts, autotexts = ax1.pie(data['okrug'].value_counts().sort_index(ascending=True), labels = sorted(set(data['okrug'])), autopct='%1.2f%%')\n",
    "ax1.axis('equal')\n",
    "plt.title('Доли округов в выборке данных')\n",
    "\n",
    "fig2, ax2 = plt.subplots()\n",
    "ax2.bar(sorted(set(data['okrug'])),data.groupby('okrug').agg('mean')['price_per_m'].sort_index(ascending=True))\n",
    "fig2.set_figwidth(12)\n",
    "plt.title('Средняя цена м2 по округам')\n",
    "\n",
    "fig3, ax3 = plt.subplots()\n",
    "ax3.bar(sorted(set(data['okrug'])),data.groupby('okrug').agg('mean')['price'].sort_index(ascending=True))\n",
    "fig3.set_figwidth(12)\n",
    "plt.title('Средняя цена объекта по округам')\n",
    "\n",
    "fig4, ax4 = plt.subplots()\n",
    "ax4.bar(sorted(set(data['okrug'])),data.groupby('okrug').agg('mean')['square'].sort_index(ascending=True))\n",
    "fig4.set_figwidth(12)\n",
    "plt.title('Средняя площадь объекта по округам')\n",
    "plt.show()"
   ]
  },
  {
   "cell_type": "markdown",
   "metadata": {},
   "source": [
    "Удалим признаки которые будут бесполезны при обучении.\n",
    "1. price_per_m - бесполезен, тк является комбинацией price и square.\n",
    "2. address - бесполезен, тк является категориальным и принимает слишком много разных значений. Имел бы смысл при обучающей выборке покрупнее.\n",
    "3. transport - признак, который был разобран на 2 новых.\n",
    "4. room_sq - имеет слишком много пропусков, а так же принимает слишком много разных значений."
   ]
  },
  {
   "cell_type": "code",
   "execution_count": 54,
   "metadata": {},
   "outputs": [],
   "source": [
    "del data['price_per_m']\n",
    "del data['address']\n",
    "del data['transport']\n",
    "del data['room_sq']"
   ]
  },
  {
   "cell_type": "code",
   "execution_count": 55,
   "metadata": {},
   "outputs": [
    {
     "data": {
      "text/html": [
       "<div>\n",
       "<style scoped>\n",
       "    .dataframe tbody tr th:only-of-type {\n",
       "        vertical-align: middle;\n",
       "    }\n",
       "\n",
       "    .dataframe tbody tr th {\n",
       "        vertical-align: top;\n",
       "    }\n",
       "\n",
       "    .dataframe thead th {\n",
       "        text-align: right;\n",
       "    }\n",
       "</style>\n",
       "<table border=\"1\" class=\"dataframe\">\n",
       "  <thead>\n",
       "    <tr style=\"text-align: right;\">\n",
       "      <th></th>\n",
       "      <th>price</th>\n",
       "      <th>title</th>\n",
       "      <th>okrug</th>\n",
       "      <th>district</th>\n",
       "      <th>square</th>\n",
       "      <th>live_square</th>\n",
       "      <th>kitchen_square</th>\n",
       "      <th>etage</th>\n",
       "      <th>year</th>\n",
       "      <th>height</th>\n",
       "      <th>sanuzel</th>\n",
       "      <th>balcon</th>\n",
       "      <th>view</th>\n",
       "      <th>otdelka</th>\n",
       "      <th>all_etage</th>\n",
       "      <th>station</th>\n",
       "      <th>transport_time</th>\n",
       "    </tr>\n",
       "  </thead>\n",
       "  <tbody>\n",
       "    <tr>\n",
       "      <th>0</th>\n",
       "      <td>9000000</td>\n",
       "      <td>1-комн. квартира</td>\n",
       "      <td>САО</td>\n",
       "      <td>р-н Аэропорт</td>\n",
       "      <td>35.9</td>\n",
       "      <td>19.0</td>\n",
       "      <td>19.0</td>\n",
       "      <td>1</td>\n",
       "      <td>1957</td>\n",
       "      <td>0.00</td>\n",
       "      <td>1 совмещенный</td>\n",
       "      <td>0</td>\n",
       "      <td>во двор</td>\n",
       "      <td>косметический</td>\n",
       "      <td>5</td>\n",
       "      <td>Сокол</td>\n",
       "      <td>18</td>\n",
       "    </tr>\n",
       "    <tr>\n",
       "      <th>1</th>\n",
       "      <td>16500000</td>\n",
       "      <td>3-комн. квартира</td>\n",
       "      <td>САО</td>\n",
       "      <td>р-н Аэропорт</td>\n",
       "      <td>64.0</td>\n",
       "      <td>43.7</td>\n",
       "      <td>7.1</td>\n",
       "      <td>6</td>\n",
       "      <td>1974</td>\n",
       "      <td>2.64</td>\n",
       "      <td>1 раздельный</td>\n",
       "      <td>2 балкона</td>\n",
       "      <td>во двор</td>\n",
       "      <td>косметический</td>\n",
       "      <td>12</td>\n",
       "      <td>Аэропорт</td>\n",
       "      <td>16</td>\n",
       "    </tr>\n",
       "    <tr>\n",
       "      <th>2</th>\n",
       "      <td>18500000</td>\n",
       "      <td>2-комн. квартира</td>\n",
       "      <td>САО</td>\n",
       "      <td>р-н Аэропорт</td>\n",
       "      <td>56.0</td>\n",
       "      <td>35.5</td>\n",
       "      <td>8.0</td>\n",
       "      <td>5</td>\n",
       "      <td>1958</td>\n",
       "      <td>0.00</td>\n",
       "      <td>1 совмещенный</td>\n",
       "      <td>1 балкон</td>\n",
       "      <td>во двор</td>\n",
       "      <td>косметический</td>\n",
       "      <td>5</td>\n",
       "      <td>Сокол</td>\n",
       "      <td>14</td>\n",
       "    </tr>\n",
       "    <tr>\n",
       "      <th>3</th>\n",
       "      <td>21000000</td>\n",
       "      <td>4-комн. квартира</td>\n",
       "      <td>ЦАО</td>\n",
       "      <td>р-н Красносельский</td>\n",
       "      <td>81.6</td>\n",
       "      <td>58.2</td>\n",
       "      <td>9.0</td>\n",
       "      <td>5</td>\n",
       "      <td>1927</td>\n",
       "      <td>2.95</td>\n",
       "      <td>1 раздельный</td>\n",
       "      <td>1 балкон</td>\n",
       "      <td>0</td>\n",
       "      <td>косметический</td>\n",
       "      <td>5</td>\n",
       "      <td>Комсомольская</td>\n",
       "      <td>10</td>\n",
       "    </tr>\n",
       "    <tr>\n",
       "      <th>4</th>\n",
       "      <td>18000000</td>\n",
       "      <td>2-комн. квартира</td>\n",
       "      <td>ЦАО</td>\n",
       "      <td>р-н Красносельский</td>\n",
       "      <td>60.0</td>\n",
       "      <td>37.0</td>\n",
       "      <td>8.0</td>\n",
       "      <td>2</td>\n",
       "      <td>1927</td>\n",
       "      <td>0.00</td>\n",
       "      <td>2 совмещенных</td>\n",
       "      <td>1 балкон</td>\n",
       "      <td>во двор</td>\n",
       "      <td>косметический</td>\n",
       "      <td>6</td>\n",
       "      <td>Комсомольская</td>\n",
       "      <td>10</td>\n",
       "    </tr>\n",
       "  </tbody>\n",
       "</table>\n",
       "</div>"
      ],
      "text/plain": [
       "      price             title okrug             district  square  live_square  \\\n",
       "0   9000000  1-комн. квартира   САО         р-н Аэропорт    35.9         19.0   \n",
       "1  16500000  3-комн. квартира   САО         р-н Аэропорт    64.0         43.7   \n",
       "2  18500000  2-комн. квартира   САО         р-н Аэропорт    56.0         35.5   \n",
       "3  21000000  4-комн. квартира   ЦАО   р-н Красносельский    81.6         58.2   \n",
       "4  18000000  2-комн. квартира   ЦАО   р-н Красносельский    60.0         37.0   \n",
       "\n",
       "   kitchen_square  etage  year  height        sanuzel     balcon     view  \\\n",
       "0            19.0      1  1957    0.00  1 совмещенный          0  во двор   \n",
       "1             7.1      6  1974    2.64   1 раздельный  2 балкона  во двор   \n",
       "2             8.0      5  1958    0.00  1 совмещенный   1 балкон  во двор   \n",
       "3             9.0      5  1927    2.95   1 раздельный   1 балкон        0   \n",
       "4             8.0      2  1927    0.00  2 совмещенных   1 балкон  во двор   \n",
       "\n",
       "         otdelka  all_etage        station  transport_time  \n",
       "0  косметический          5          Сокол              18  \n",
       "1  косметический         12       Аэропорт              16  \n",
       "2  косметический          5          Сокол              14  \n",
       "3  косметический          5  Комсомольская              10  \n",
       "4  косметический          6  Комсомольская              10  "
      ]
     },
     "execution_count": 55,
     "metadata": {},
     "output_type": "execute_result"
    }
   ],
   "source": [
    "data.head()"
   ]
  },
  {
   "cell_type": "markdown",
   "metadata": {},
   "source": [
    "Обратим внимание, что многие признаки являются категориальными и что для дальнейшего обучения их необходимо спроецировать в область вещественных значений. Для этого воспользуемся встроенным в библиотеку sklearn кодировщиком LabelEncoder()."
   ]
  },
  {
   "cell_type": "code",
   "execution_count": 56,
   "metadata": {},
   "outputs": [
    {
     "data": {
      "text/html": [
       "<div>\n",
       "<style scoped>\n",
       "    .dataframe tbody tr th:only-of-type {\n",
       "        vertical-align: middle;\n",
       "    }\n",
       "\n",
       "    .dataframe tbody tr th {\n",
       "        vertical-align: top;\n",
       "    }\n",
       "\n",
       "    .dataframe thead th {\n",
       "        text-align: right;\n",
       "    }\n",
       "</style>\n",
       "<table border=\"1\" class=\"dataframe\">\n",
       "  <thead>\n",
       "    <tr style=\"text-align: right;\">\n",
       "      <th></th>\n",
       "      <th>price</th>\n",
       "      <th>title</th>\n",
       "      <th>okrug</th>\n",
       "      <th>district</th>\n",
       "      <th>square</th>\n",
       "      <th>live_square</th>\n",
       "      <th>kitchen_square</th>\n",
       "      <th>etage</th>\n",
       "      <th>year</th>\n",
       "      <th>height</th>\n",
       "      <th>sanuzel</th>\n",
       "      <th>balcon</th>\n",
       "      <th>view</th>\n",
       "      <th>otdelka</th>\n",
       "      <th>all_etage</th>\n",
       "      <th>station</th>\n",
       "      <th>transport_time</th>\n",
       "    </tr>\n",
       "  </thead>\n",
       "  <tbody>\n",
       "    <tr>\n",
       "      <th>0</th>\n",
       "      <td>9000000</td>\n",
       "      <td>1</td>\n",
       "      <td>3</td>\n",
       "      <td>9</td>\n",
       "      <td>35.9</td>\n",
       "      <td>19.0</td>\n",
       "      <td>19.0</td>\n",
       "      <td>1</td>\n",
       "      <td>1957</td>\n",
       "      <td>0.00</td>\n",
       "      <td>2</td>\n",
       "      <td>0</td>\n",
       "      <td>1</td>\n",
       "      <td>4</td>\n",
       "      <td>5</td>\n",
       "      <td>133</td>\n",
       "      <td>18</td>\n",
       "    </tr>\n",
       "    <tr>\n",
       "      <th>1</th>\n",
       "      <td>16500000</td>\n",
       "      <td>5</td>\n",
       "      <td>3</td>\n",
       "      <td>9</td>\n",
       "      <td>64.0</td>\n",
       "      <td>43.7</td>\n",
       "      <td>7.1</td>\n",
       "      <td>6</td>\n",
       "      <td>1974</td>\n",
       "      <td>2.64</td>\n",
       "      <td>1</td>\n",
       "      <td>4</td>\n",
       "      <td>1</td>\n",
       "      <td>4</td>\n",
       "      <td>12</td>\n",
       "      <td>6</td>\n",
       "      <td>16</td>\n",
       "    </tr>\n",
       "    <tr>\n",
       "      <th>2</th>\n",
       "      <td>18500000</td>\n",
       "      <td>3</td>\n",
       "      <td>3</td>\n",
       "      <td>9</td>\n",
       "      <td>56.0</td>\n",
       "      <td>35.5</td>\n",
       "      <td>8.0</td>\n",
       "      <td>5</td>\n",
       "      <td>1958</td>\n",
       "      <td>0.00</td>\n",
       "      <td>2</td>\n",
       "      <td>1</td>\n",
       "      <td>1</td>\n",
       "      <td>4</td>\n",
       "      <td>5</td>\n",
       "      <td>133</td>\n",
       "      <td>14</td>\n",
       "    </tr>\n",
       "    <tr>\n",
       "      <th>3</th>\n",
       "      <td>21000000</td>\n",
       "      <td>7</td>\n",
       "      <td>6</td>\n",
       "      <td>30</td>\n",
       "      <td>81.6</td>\n",
       "      <td>58.2</td>\n",
       "      <td>9.0</td>\n",
       "      <td>5</td>\n",
       "      <td>1927</td>\n",
       "      <td>2.95</td>\n",
       "      <td>1</td>\n",
       "      <td>1</td>\n",
       "      <td>0</td>\n",
       "      <td>4</td>\n",
       "      <td>5</td>\n",
       "      <td>58</td>\n",
       "      <td>10</td>\n",
       "    </tr>\n",
       "    <tr>\n",
       "      <th>4</th>\n",
       "      <td>18000000</td>\n",
       "      <td>3</td>\n",
       "      <td>6</td>\n",
       "      <td>30</td>\n",
       "      <td>60.0</td>\n",
       "      <td>37.0</td>\n",
       "      <td>8.0</td>\n",
       "      <td>2</td>\n",
       "      <td>1927</td>\n",
       "      <td>0.00</td>\n",
       "      <td>6</td>\n",
       "      <td>1</td>\n",
       "      <td>1</td>\n",
       "      <td>4</td>\n",
       "      <td>6</td>\n",
       "      <td>58</td>\n",
       "      <td>10</td>\n",
       "    </tr>\n",
       "  </tbody>\n",
       "</table>\n",
       "</div>"
      ],
      "text/plain": [
       "      price  title  okrug  district  square  live_square  kitchen_square  \\\n",
       "0   9000000      1      3         9    35.9         19.0            19.0   \n",
       "1  16500000      5      3         9    64.0         43.7             7.1   \n",
       "2  18500000      3      3         9    56.0         35.5             8.0   \n",
       "3  21000000      7      6        30    81.6         58.2             9.0   \n",
       "4  18000000      3      6        30    60.0         37.0             8.0   \n",
       "\n",
       "   etage  year  height  sanuzel  balcon  view  otdelka  all_etage  station  \\\n",
       "0      1  1957    0.00        2       0     1        4          5      133   \n",
       "1      6  1974    2.64        1       4     1        4         12        6   \n",
       "2      5  1958    0.00        2       1     1        4          5      133   \n",
       "3      5  1927    2.95        1       1     0        4          5       58   \n",
       "4      2  1927    0.00        6       1     1        4          6       58   \n",
       "\n",
       "   transport_time  \n",
       "0              18  \n",
       "1              16  \n",
       "2              14  \n",
       "3              10  \n",
       "4              10  "
      ]
     },
     "execution_count": 56,
     "metadata": {},
     "output_type": "execute_result"
    }
   ],
   "source": [
    "features = ['title','okrug','district','sanuzel','balcon','view',\n",
    "            'otdelka','station']\n",
    "data_encoded = data.copy(deep=True)\n",
    "\n",
    "def feature_encoding(data, features):\n",
    "    le = LabelEncoder()\n",
    "    for feature in features:\n",
    "        le.fit(data[feature])\n",
    "        data[feature] = le.transform(data[feature])\n",
    "    return data\n",
    "\n",
    "data_encoded = feature_encoding(data_encoded, features)\n",
    "data_encoded.head()"
   ]
  },
  {
   "cell_type": "markdown",
   "metadata": {},
   "source": [
    "Теперь определим множество признаков для обучения (Х) и класс, который модель будет предсказывать (y)."
   ]
  },
  {
   "cell_type": "code",
   "execution_count": 57,
   "metadata": {},
   "outputs": [],
   "source": [
    "X = data_encoded.loc[:, 'title':'transport_time']\n",
    "y = data_encoded['price']"
   ]
  },
  {
   "cell_type": "code",
   "execution_count": 58,
   "metadata": {},
   "outputs": [
    {
     "name": "stdout",
     "output_type": "stream",
     "text": [
      "[21:31:00] WARNING: C:/Users/Administrator/workspace/xgboost-win64_release_1.5.0/src/objective/regression_obj.cu:188: reg:linear is now deprecated in favor of reg:squarederror.\n"
     ]
    }
   ],
   "source": [
    "X_train, X_test, y_train, y_test = train_test_split(X, y, test_size=0.3, \n",
    "                                                    random_state=1)\n",
    "\n",
    "xgb_r = xg.XGBRegressor(objective ='reg:linear',\n",
    "                  n_estimators = 10, seed = 42)\n",
    "\n",
    "xgb_r.fit(X_train, y_train)\n",
    "  \n",
    "pred = xgb_r.predict(X_test)"
   ]
  },
  {
   "cell_type": "code",
   "execution_count": 59,
   "metadata": {},
   "outputs": [
    {
     "data": {
      "image/png": "[encoded data removed]",
      "text/plain": [
       "<IPython.core.display.Image object>"
      ]
     },
     "execution_count": 59,
     "metadata": {},
     "output_type": "execute_result"
    }
   ],
   "source": [
    "Image(\"r2.png\")"
   ]
  },
  {
   "cell_type": "code",
   "execution_count": 60,
   "metadata": {},
   "outputs": [
    {
     "name": "stdout",
     "output_type": "stream",
     "text": [
      "R^2 score on training set: 0.905\n",
      "R^2 score on test set: 0.774\n"
     ]
    }
   ],
   "source": [
    "print('R^2 score on training set: {:.3f}'.format(xgb_r.score(X_train,y_train)))\n",
    "print('R^2 score on test set: {:.3f}'.format(xgb_r.score(X_test,y_test)))"
   ]
  },
  {
   "cell_type": "markdown",
   "metadata": {},
   "source": [
    "Попробуем сделать предсказания для одного примера"
   ]
  },
  {
   "cell_type": "code",
   "execution_count": 61,
   "metadata": {},
   "outputs": [
    {
     "name": "stdout",
     "output_type": "stream",
     "text": [
      "14855337.0 руб \n",
      " 270097.0363636364 руб/м2\n"
     ]
    }
   ],
   "source": [
    "check_example = {'title':[\"2-комн. квартира\"],'okrug':[\"ЗАО\"],\n",
    "                 'district':[\"р-н Раменки\"],'square':[55],\n",
    "                 'live_square':[38],'kitchen_square':[12],'etage':[5],\n",
    "                 'year':[2007],'height':[2.8],'sanuzel':[\"1 совмещенный\"],\n",
    "                 'balcon':[\"1 лоджия\"],'view':[\"Во двор\"],\n",
    "                 'otdelka':[\"Дизайнерский\"],'all_etage':[17],\n",
    "                 'station':[\"Раменки\"],'transport_time':[7]}\n",
    "X_check = pd.DataFrame(check_example)\n",
    "X_check = feature_encoding(pd.concat([data.loc[:,'title':'transport_time'],X_check]), features)[-1:]\n",
    "y_pred = xgb_r.predict(X_check)\n",
    "print(round(y_pred[0]),'руб','\\n',round(y_pred[0])/check_example['square'][0],'руб/м2')"
   ]
  },
  {
   "cell_type": "code",
   "execution_count": null,
   "metadata": {},
   "outputs": [],
   "source": []
  },
  {
   "cell_type": "code",
   "execution_count": null,
   "metadata": {},
   "outputs": [],
   "source": []
  },
  {
   "cell_type": "code",
   "execution_count": null,
   "metadata": {},
   "outputs": [],
   "source": []
  },
  {
   "cell_type": "code",
   "execution_count": null,
   "metadata": {},
   "outputs": [],
   "source": []
  },
  {
   "cell_type": "code",
   "execution_count": null,
   "metadata": {},
   "outputs": [],
   "source": []
  },
  {
   "cell_type": "code",
   "execution_count": null,
   "metadata": {},
   "outputs": [],
   "source": []
  },
  {
   "cell_type": "code",
   "execution_count": null,
   "metadata": {},
   "outputs": [],
   "source": []
  }
 ],
 "metadata": {
  "kernelspec": {
   "display_name": "Python 3",
   "language": "python",
   "name": "python3"
  },
  "language_info": {
   "codemirror_mode": {
    "name": "ipython",
    "version": 3
   },
   "file_extension": ".py",
   "mimetype": "text/x-python",
   "name": "python",
   "nbconvert_exporter": "python",
   "pygments_lexer": "ipython3",
   "version": "3.7.3"
  }
 },
 "nbformat": 4,
 "nbformat_minor": 2
}
